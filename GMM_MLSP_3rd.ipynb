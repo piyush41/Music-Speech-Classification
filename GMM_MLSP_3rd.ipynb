{
 "cells": [
  {
   "cell_type": "code",
   "execution_count": 1,
   "metadata": {},
   "outputs": [],
   "source": [
    "import glob\n",
    "import os\n",
    "import numpy as np\n",
    "import matplotlib\n",
    "from scipy.fftpack import fft\n",
    "from scipy.fft import fft, rfft\n",
    "from scipy.io import wavfile \n",
    "import IPython.display as ipd\n",
    "import matplotlib.pyplot as plt\n",
    "from matplotlib.pyplot import specgram\n",
    "from scipy.stats import multivariate_normal\n",
    "\n",
    "import librosa\n",
    "import librosa.display\n",
    "from sklearn.cluster import KMeans\n",
    "\n",
    "import math\n",
    "from glob import glob"
   ]
  },
  {
   "cell_type": "code",
   "execution_count": 2,
   "metadata": {},
   "outputs": [],
   "source": [
    "\n",
    "shift_time=10   #10ms\n",
    "window_time=25    #25ms\n",
    "music_sr=[]\n",
    "\n"
   ]
  },
  {
   "cell_type": "code",
   "execution_count": 3,
   "metadata": {},
   "outputs": [],
   "source": [
    "# Read the data\n",
    "def read_data(dir):\n",
    "     \n",
    "    audio_files = glob(dir+'/*.wav')\n",
    "    samplerate, data = wavfile.read(audio_files[0])\n",
    "    sh=int(samplerate*shift_time*0.001)\n",
    "    No_of_shift = len(range(0,len(data),sh))\n",
    "    window_length=int(samplerate*window_time*0.001)\n",
    "    final_data=np.zeros((len(audio_files),No_of_shift-3,window_length))\n",
    "    for file in range(len(audio_files)):\n",
    "        \n",
    "        samplerate, data = wavfile.read(audio_files[file])\n",
    "        window_length=int(samplerate*window_time*0.001)\n",
    "        sh=int(samplerate*shift_time*0.001)  #160\n",
    "        No_of_shift = len(range(0,len(data),sh))\n",
    "        \n",
    "        #print(\"the value of sh\",sh)\n",
    "                 #3000\n",
    "\n",
    "        #print(len(data))\n",
    "        #print(\"the no of shifts are \",No_of_shift)\n",
    "        hamming_output=np.hamming(window_length)\n",
    "        j=0\n",
    "        for i in range(No_of_shift-3):\n",
    "            if(len(data[j:])>=window_length):\n",
    "                final_data[file][i][:]=(data[j:j+window_length] *hamming_output)\n",
    "            else:\n",
    "                break\n",
    "            j=j+sh\n",
    "    return final_data"
   ]
  },
  {
   "cell_type": "code",
   "execution_count": 8,
   "metadata": {},
   "outputs": [],
   "source": [
    "# Take the data convert into spectrogram\n",
    "def specto(mag_fft,final_data):\n",
    "    audio_files = glob(data_dir+'/*.wav')\n",
    "    fft_data=np.zeros([len(audio_files)*(No_of_shift-3),32])\n",
    "    k=0\n",
    "    for file in range(0, len(audio_files),1):\n",
    "        fft=np.log(np.absolute(np.fft.fft(final_data[file],mag_fft)))\n",
    "        newfft=np.zeros([No_of_shift-3,32])\n",
    "        newfft=fft[:,0:32]\n",
    " \n",
    "        for i in range(No_of_shift-3):\n",
    "            fft_data[k,:]=newfft[i,:]\n",
    "            k=k+1\n",
    "    return fft_data"
   ]
  },
  {
   "cell_type": "code",
   "execution_count": 7,
   "metadata": {},
   "outputs": [],
   "source": [
    "#plotting the spectrogram\n",
    "def plot_spec(data):\n",
    "    plt.figure(figsize=(14,7))\n",
    "    plt.imshow((data.T))\n",
    "    plt.show()"
   ]
  },
  {
   "cell_type": "code",
   "execution_count": 34,
   "metadata": {},
   "outputs": [],
   "source": [
    "#Returning a covariance matrix\n",
    "def cov_mat(fft_data):\n",
    "    print(len(fft_data))\n",
    "    cov_mat=np.matmul(fft_data.T,fft_data)\n",
    "    cov_mat=cov_mat/len(fft_data-1)\n",
    "    return cov_mat"
   ]
  },
  {
   "cell_type": "code",
   "execution_count": 4,
   "metadata": {},
   "outputs": [],
   "source": [
    "data_dir = 'train/music'\n",
    "audio_files = glob(data_dir+'/*.wav')\n",
    "samplerate, data = wavfile.read(audio_files[0])\n",
    "sh=int(samplerate*shift_time*0.001)\n",
    "No_of_shift = len(range(0,len(data),sh))\n",
    "window_length=int(samplerate*window_time*0.001)"
   ]
  },
  {
   "cell_type": "code",
   "execution_count": 5,
   "metadata": {},
   "outputs": [],
   "source": [
    "music_data=read_data(data_dir)                #[40][2997][400]\n",
    "data_dir = 'train/speech'\n",
    "speech_data=read_data(data_dir)"
   ]
  },
  {
   "cell_type": "code",
   "execution_count": 6,
   "metadata": {},
   "outputs": [
    {
     "data": {
      "text/plain": [
       "(40, 2997, 400)"
      ]
     },
     "execution_count": 6,
     "metadata": {},
     "output_type": "execute_result"
    }
   ],
   "source": [
    "np.shape(speech_data)"
   ]
  },
  {
   "cell_type": "code",
   "execution_count": 9,
   "metadata": {},
   "outputs": [
    {
     "name": "stdout",
     "output_type": "stream",
     "text": [
      "(119880, 32)\n",
      "(119880, 32)\n"
     ]
    }
   ],
   "source": [
    "mag_fft=64\n",
    "\n",
    "\n",
    "#print(equal_arrays)\n",
    "fft_music=specto(mag_fft,music_data)\n",
    "fft_speech=specto(mag_fft,speech_data)\n",
    "print(np.shape(fft_music))\n",
    "print(np.shape(fft_speech))\n",
    "fft_data=np.concatenate((fft_music, fft_speech), axis=0)\n",
    "#print(np.shape(fft_data))"
   ]
  },
  {
   "cell_type": "code",
   "execution_count": 10,
   "metadata": {},
   "outputs": [
    {
     "name": "stdout",
     "output_type": "stream",
     "text": [
      "119880 32\n"
     ]
    }
   ],
   "source": [
    "#implemented the K-Means Clustering \n",
    "\n",
    "import random\n",
    "X=fft_music\n",
    "m=len(X)\n",
    "n=len(X[0])\n",
    "print(m,n)\n",
    "n_iter=1\n",
    "K=2\n",
    "\n",
    "center=np.array([]).reshape(n,0)\n",
    "center.shape\n",
    "\n",
    "for i in range(K):\n",
    "    rand=random.randint(0,m-1)\n",
    "    center=np.c_[center,X[rand]]\n",
    "    \n",
    "output_music={}\n",
    "\n",
    "for i in range(n_iter):\n",
    "    EuclidDist=np.array([]).reshape(m,0)\n",
    "    for k in range(K):\n",
    "        tempDist=np.sum((X-center[:,k])**2,axis=1)\n",
    "        EuclidDist=np.c_[EuclidDist,tempDist]\n",
    "    C=np.argmin(EuclidDist,axis=1)+1\n",
    "\n",
    "#     print(np.shape(C))\n",
    "    ans=[0]*(len(fft_music))\n",
    "    Y={}\n",
    "    for k in range(K):\n",
    "        Y[k+1]=np.array([]).reshape(n,0)\n",
    "    \n",
    "    for i in range(m):\n",
    "        Y[C[i]]=np.c_[Y[C[i]],X[i]]\n",
    "\n",
    "    for k in range(K):\n",
    "        Y[k+1]=Y[k+1].T\n",
    "\n",
    "    for k in range(K):\n",
    "         center[:,k]=np.mean(Y[k+1],axis=0)\n",
    "    output_music=Y  \n",
    "mean_music=center.T"
   ]
  },
  {
   "cell_type": "code",
   "execution_count": 11,
   "metadata": {},
   "outputs": [
    {
     "name": "stdout",
     "output_type": "stream",
     "text": [
      "119880 32\n"
     ]
    }
   ],
   "source": [
    "import random\n",
    "X=fft_speech\n",
    "m=len(X)\n",
    "n=len(X[0])\n",
    "print(m,n)\n",
    "n_iter=1\n",
    "K=2\n",
    "\n",
    "center=np.array([]).reshape(n,0)\n",
    "center.shape\n",
    "\n",
    "for i in range(K):\n",
    "    rand=random.randint(0,m-1)\n",
    "    center=np.c_[center,X[rand]]\n",
    "    \n",
    "output_speech={}\n",
    "\n",
    "for i in range(n_iter):\n",
    "    EuclidDist=np.array([]).reshape(m,0)\n",
    "    for k in range(K):\n",
    "        tempDist=np.sum((X-center[:,k])**2,axis=1)\n",
    "        EuclidDist=np.c_[EuclidDist,tempDist]\n",
    "    C=np.argmin(EuclidDist,axis=1)+1\n",
    "\n",
    "#     print(np.shape(C))\n",
    "    ans=[0]*(len(fft_music))\n",
    "    Y={}\n",
    "    for k in range(K):\n",
    "        Y[k+1]=np.array([]).reshape(n,0)\n",
    "    \n",
    "    for i in range(m):\n",
    "        Y[C[i]]=np.c_[Y[C[i]],X[i]]\n",
    "\n",
    "    for k in range(K):\n",
    "        Y[k+1]=Y[k+1].T\n",
    "\n",
    "    for k in range(K):\n",
    "         center[:,k]=np.mean(Y[k+1],axis=0)\n",
    "    output_speech=Y  \n",
    "mean_speech=center.T\n",
    "count=0"
   ]
  },
  {
   "cell_type": "code",
   "execution_count": 29,
   "metadata": {},
   "outputs": [
    {
     "data": {
      "text/plain": [
       "45482"
      ]
     },
     "execution_count": 29,
     "metadata": {},
     "output_type": "execute_result"
    }
   ],
   "source": [
    "len(output_music[2])"
   ]
  },
  {
   "cell_type": "code",
   "execution_count": 12,
   "metadata": {},
   "outputs": [],
   "source": [
    "# Label the data to know which data belongs to which cluster\n",
    "X=fft_music\n",
    "label_music=[1]*len(X)\n",
    "for i in range(len(X)):\n",
    "    if(X[i] in output_music[2]):\n",
    "        label_music[i]=2\n",
    "    \n"
   ]
  },
  {
   "cell_type": "code",
   "execution_count": 30,
   "metadata": {},
   "outputs": [
    {
     "data": {
      "text/plain": [
       "45482"
      ]
     },
     "execution_count": 30,
     "metadata": {},
     "output_type": "execute_result"
    }
   ],
   "source": [
    "count =0\n",
    "for i in label_music:\n",
    "    if i==2:\n",
    "        count=count+1\n",
    "count"
   ]
  },
  {
   "cell_type": "code",
   "execution_count": 31,
   "metadata": {},
   "outputs": [],
   "source": [
    "X=fft_speech\n",
    "label_speech=[1]*len(X)\n",
    "for i in range(len(X)):\n",
    "    if(X[i] in output_speech[2]):\n",
    "        label_speech[i]=2"
   ]
  },
  {
   "cell_type": "code",
   "execution_count": 73,
   "metadata": {},
   "outputs": [
    {
     "name": "stdout",
     "output_type": "stream",
     "text": [
      "74398\n",
      "45482\n"
     ]
    }
   ],
   "source": [
    "X=fft_music\n",
    "music_Data1=[]\n",
    "music_Data2=[]\n",
    "for i in range(len(label_music)):\n",
    "    if(label_music[i]==1):\n",
    "        music_Data1.append(X[i])\n",
    "    else:\n",
    "        music_Data2.append(X[i])\n",
    "    \n",
    "music_Data1=np.array(music_Data1)\n",
    "music_Data2=np.array(music_Data2)\n",
    "\n",
    "musicmeanVectors=mean_music\n",
    "covariance_music=[]\n",
    "covariance_music.append(np.diag(np.diag(cov_mat(music_Data1))))\n",
    "covariance_music.append(np.diag(np.diag(cov_mat(music_Data2))))\n",
    "covariance_music=np.array(covariance_music)\n",
    "pi_music=[]\n",
    "pi_music.append(len(music_Data1)/len(X))\n",
    "pi_music.append(len(music_Data2)/len(X))\n"
   ]
  },
  {
   "cell_type": "code",
   "execution_count": 74,
   "metadata": {},
   "outputs": [
    {
     "name": "stdout",
     "output_type": "stream",
     "text": [
      "13394\n",
      "106486\n"
     ]
    }
   ],
   "source": [
    "X=fft_speech\n",
    "speech_Data1=[]\n",
    "speech_Data2=[]\n",
    "\n",
    "for i in range(len(label_speech)):\n",
    "    if(label_speech[i]==1):\n",
    "        speech_Data1.append(X[i])\n",
    "    else:\n",
    "        speech_Data2.append(X[i])\n",
    "speech_Data1=np.array(speech_Data1)\n",
    "speech_Data2=np.array(speech_Data2)\n",
    "\n",
    "speechmeanVectors=mean_speech\n",
    "covariance_speech=[]\n",
    "\n",
    "\n",
    "\n",
    "covariance_speech.append(np.diag(np.diag(cov_mat(speech_Data1))))\n",
    "covariance_speech.append(np.diag(np.diag(cov_mat(speech_Data2))))\n",
    "\n",
    "covariance_speech=np.array(covariance_speech)\n",
    "pi_speech=[]\n",
    "pi_speech.append(len(speech_Data1)/len(X))\n",
    "pi_speech.append(len(speech_Data2)/len(X))\n"
   ]
  },
  {
   "cell_type": "code",
   "execution_count": 75,
   "metadata": {},
   "outputs": [],
   "source": [
    "def multivariate(X, mean_vector, covariance_matrix):\n",
    "    return (2*np.pi)**(-len(X)/2)*np.linalg.det(covariance_matrix)**(-1/2)*np.exp(-np.dot(np.dot((X-mean_vector).T, np.linalg.inv(covariance_matrix)), (X-mean_vector))/2)"
   ]
  },
  {
   "cell_type": "code",
   "execution_count": 76,
   "metadata": {},
   "outputs": [],
   "source": [
    "def specto_test(mag_fft,final_data):\n",
    "    fft_data=np.zeros([(No_of_shift-3),32]) \n",
    "    fft=np.log(np.absolute(np.fft.fft(final_data,mag_fft)))\n",
    "    fft_data=fft[:,0:32]\n",
    "    \n",
    "    return fft_data"
   ]
  },
  {
   "cell_type": "code",
   "execution_count": 77,
   "metadata": {},
   "outputs": [
    {
     "name": "stdout",
     "output_type": "stream",
     "text": [
      "(2997, 32)\n"
     ]
    }
   ],
   "source": [
    "data_dir = 'test'\n",
    "test_data=read_data(data_dir)\n",
    "fft_test=specto_test(mag_fft,test_data[1])\n",
    "print(np.shape(fft_test))"
   ]
  },
  {
   "cell_type": "code",
   "execution_count": 78,
   "metadata": {},
   "outputs": [],
   "source": [
    "def compute_logLikelihood(X,pi,meanVectors,covariance,no):\n",
    "    logdata=0\n",
    "    for n in range(len(X)):\n",
    "        data=0\n",
    "        for j in range(no):\n",
    "            data+=pi[j]*multivariate(X[n], meanVectors[j], covariance[j])\n",
    "        logdata+=np.log(data)\n",
    "    return logdata"
   ]
  },
  {
   "cell_type": "code",
   "execution_count": 79,
   "metadata": {},
   "outputs": [],
   "source": [
    "no=2\n",
    "like_mean=[compute_logLikelihood(X,pi_music,musicmeanVectors,covariance_music,no)]\n",
    "like_speech=[compute_logLikelihood(X,pi_speech,speechmeanVectors,covariance_speech,no)]"
   ]
  },
  {
   "cell_type": "markdown",
   "metadata": {},
   "source": [
    "E step\n",
    "\n",
    "    "
   ]
  },
  {
   "cell_type": "code",
   "execution_count": 80,
   "metadata": {},
   "outputs": [],
   "source": [
    "c=0\n",
    "while True:\n",
    "    no=2\n",
    "    c=c+1\n",
    "    if(c==3):\n",
    "        break\n",
    "    z_music=np.zeros((len(fft_music), no))\n",
    "    z_speech=np.zeros((len(fft_speech), no))\n",
    "    ############################ E step ###########################\n",
    "    for n in range(len(fft_music)):\n",
    "            for k in range(no):\n",
    "                z_music[n][k] = pi_music[k] * multivariate(fft_music[n], musicmeanVectors[k], covariance_music[k])\n",
    "                z_music[n][k] /= sum([pi_music[j]*multivariate(fft_music[n], musicmeanVectors[j], covariance_music[j]) for j in range(no)])\n",
    "    for n in range(len(fft_speech)):\n",
    "            for k in range(no):\n",
    "                z_speech[n][k] = pi_speech[k] * multivariate(fft_speech[n], speechmeanVectors[k], covariance_speech[k])\n",
    "                z_speech[n][k] /= sum([pi_speech[j]*multivariate(fft_speech[n], speechmeanVectors[j], covariance_speech[j]) for j in range(no)])\n",
    "    N_speech=np.sum(z_speech,axis=0)\n",
    "    N_music=np.sum(z_music,axis=0)\n",
    "    \n",
    "    ####################################### M step ################################\n",
    "    \n",
    "    #musicmeanVectors=np.zeros([no,len(fft_music[0])])\n",
    "    #speechmeanvectors=np.zeros([no,len(fft_speech[0])])\n",
    "    for k in range(no):\n",
    "        for n in range(len(fft_music)):\n",
    "            musicmeanVectors[k] += z_music[n][k] * fft_music[n] \n",
    "        musicmeanVectors[k] = (1/N_music[k])*musicmeanVectors[k]\n",
    "    for k in range(no):\n",
    "        for n in range(len(fft_speech)):\n",
    "            speechmeanVectors[k] += z_speech[n][k] * fft_speech[n] \n",
    "        speechmeanVectors[k] = (1/N_speech[k])*speechmeanVectors[k] \n",
    "        \n",
    "        \n",
    "    \n",
    "    for k in range(no):\n",
    "\n",
    "        new_X=(fft_music-musicmeanVectors[k]).T\n",
    "\n",
    "        covariance_music[k]=np.diag(np.diag(np.dot(z_music[:,k]*new_X,new_X.T)))\n",
    "        covariance_music[k] = 1/N_music[k]*covariance_music[k] \n",
    "        \n",
    "\n",
    "    for k in range(no):\n",
    "        new_X_speech=(fft_speech-speechmeanVectors[k]).T\n",
    "        covariance_speech[k]=np.diag(np.diag(np.dot(z_speech[:,k]*new_X_speech,new_X_speech.T)))\n",
    "        covariance_speech[k] = 1/N_speech[k]*covariance_speech[k] \n",
    "        \n",
    "        \n",
    "        \n",
    "    for i in range(no):\n",
    "        pi_music[i]=(N_music[i]/len(fft_music))\n",
    "    for i in range(no):\n",
    "        pi_speech[i]=(N_speech[i]/len(fft_speech))\n",
    "        \n",
    "    l1=compute_logLikelihood(fft_music,pi_music,musicmeanVectors,covariance_music,no)\n",
    "    like_mean.append(l1)\n",
    "    l2=compute_logLikelihood(fft_speech,pi_speech,speechmeanVectors,covariance_speech,no)\n",
    "    like_speech.append(l2)\n",
    "   "
   ]
  },
  {
   "cell_type": "code",
   "execution_count": 81,
   "metadata": {},
   "outputs": [
    {
     "data": {
      "image/png": "[encoded data removed]",
      "text/plain": [
       "<Figure size 432x288 with 1 Axes>"
      ]
     },
     "metadata": {
      "needs_background": "light"
     },
     "output_type": "display_data"
    },
    {
     "data": {
      "image/png": "[encoded data removed]",
      "text/plain": [
       "<Figure size 432x288 with 1 Axes>"
      ]
     },
     "metadata": {
      "needs_background": "light"
     },
     "output_type": "display_data"
    }
   ],
   "source": [
    "\n",
    "# Plot the likehood at the Em iterations first one is for music and second one is speech\n",
    "plt.plot(like_mean)\n",
    "plt.show()\n",
    "plt.plot(like_speech)\n",
    "plt.show()"
   ]
  },
  {
   "cell_type": "code",
   "execution_count": 82,
   "metadata": {},
   "outputs": [],
   "source": [
    "no=2\n",
    "\n",
    "count=0\n",
    "for i in range(len(test_data)):\n",
    "    \n",
    "    \n",
    "        fft_test=specto_test(mag_fft,test_data[i])\n",
    "        \n",
    "        lgmusic=compute_logLikelihood(fft_test,pi_music,musicmeanVectors,covariance_music,no)\n",
    "        lgspeech=compute_logLikelihood(fft_test,pi_speech,speechmeanVectors,covariance_speech,no)\n",
    "        \n",
    "        if(lgmusic>lgspeech):\n",
    "            if(i<=23):\n",
    "                count=count+1\n",
    "            \n",
    "        else:\n",
    "            if(i>=24):\n",
    "                count=count+1\n",
    "            \n"
   ]
  },
  {
   "cell_type": "code",
   "execution_count": 162,
   "metadata": {},
   "outputs": [
    {
     "name": "stdout",
     "output_type": "stream",
     "text": [
      "The Error is  0.1875\n"
     ]
    }
   ],
   "source": [
    "\n",
    "error=1-(count/48)\n",
    "print(\"The Error is \",error)"
   ]
  },
  {
   "cell_type": "markdown",
   "metadata": {},
   "source": [
    "Fully Covariance Matrix"
   ]
  },
  {
   "cell_type": "code",
   "execution_count": 84,
   "metadata": {},
   "outputs": [
    {
     "name": "stdout",
     "output_type": "stream",
     "text": [
      "74398\n",
      "45482\n"
     ]
    }
   ],
   "source": [
    "X=fft_music\n",
    "music_Data1=[]\n",
    "music_Data2=[]\n",
    "\n",
    "for i in range(len(label_music)):\n",
    "    if(label_music[i]==1):\n",
    "        music_Data1.append(X[i])\n",
    "    else:\n",
    "        music_Data2.append(X[i])\n",
    "music_Data1=np.array(music_Data1)\n",
    "music_Data2=np.array(music_Data2)\n",
    "\n",
    "musicmeanVectors=mean_music\n",
    "covariance_music=[]\n",
    "\n",
    "\n",
    "\n",
    "covariance_music.append(cov_mat(music_Data1))\n",
    "covariance_music.append(cov_mat(music_Data2))\n",
    "\n",
    "\n",
    "covariance_music=np.array(covariance_music)\n",
    "pi_music=[]\n",
    "pi_music.append(len(music_Data1)/len(X))\n",
    "pi_music.append(len(music_Data2)/len(X))\n",
    "\n"
   ]
  },
  {
   "cell_type": "code",
   "execution_count": 85,
   "metadata": {},
   "outputs": [
    {
     "name": "stdout",
     "output_type": "stream",
     "text": [
      "13394\n",
      "106486\n"
     ]
    }
   ],
   "source": [
    "X=fft_speech\n",
    "speech_Data1=[]\n",
    "speech_Data2=[]\n",
    "\n",
    "for i in range(len(label_speech)):\n",
    "    if(label_speech[i]==1):\n",
    "        speech_Data1.append(X[i])\n",
    "    else:\n",
    "        speech_Data2.append(X[i])\n",
    "speech_Data1=np.array(speech_Data1)\n",
    "speech_Data2=np.array(speech_Data2)\n",
    "\n",
    "speechmeanVectors=mean_speech\n",
    "covariance_speech=[]\n",
    "\n",
    "\n",
    "\n",
    "covariance_speech.append(cov_mat(speech_Data1))\n",
    "covariance_speech.append(cov_mat(speech_Data2))\n",
    "\n",
    "covariance_speech=np.array(covariance_speech)\n",
    "pi_speech=[]\n",
    "pi_speech.append(len(speech_Data1)/len(X))\n",
    "pi_speech.append(len(speech_Data2)/len(X))\n"
   ]
  },
  {
   "cell_type": "code",
   "execution_count": 88,
   "metadata": {},
   "outputs": [],
   "source": [
    "no=2\n",
    "like_music=[compute_logLikelihood(X,pi_music,musicmeanVectors,covariance_music,no)]\n",
    "like_speech=[compute_logLikelihood(X,pi_speech,speechmeanVectors,covariance_speech,no)]\n"
   ]
  },
  {
   "cell_type": "code",
   "execution_count": 89,
   "metadata": {},
   "outputs": [],
   "source": [
    "c=0\n",
    "while True:\n",
    "    no=2\n",
    "    c=c+1\n",
    "    if(c==3):\n",
    "        break\n",
    "    z_music=np.zeros((len(fft_music), no))\n",
    "    z_speech=np.zeros((len(fft_speech), no))\n",
    "    ############################ E step ###########################\n",
    "    for n in range(len(fft_music)):\n",
    "            for k in range(no):\n",
    "                z_music[n][k] = pi_music[k] * multivariate(fft_music[n], musicmeanVectors[k], covariance_music[k])\n",
    "                z_music[n][k] /= sum([pi_music[j]*multivariate(fft_music[n], musicmeanVectors[j], covariance_music[j]) for j in range(no)])\n",
    "    for n in range(len(fft_speech)):\n",
    "            for k in range(no):\n",
    "                z_speech[n][k] = pi_speech[k] * multivariate(fft_speech[n], speechmeanVectors[k], covariance_speech[k])\n",
    "                z_speech[n][k] /= sum([pi_speech[j]*multivariate(fft_speech[n], speechmeanVectors[j], covariance_speech[j]) for j in range(no)])\n",
    "    N_speech=np.sum(z_speech,axis=0)\n",
    "    N_music=np.sum(z_music,axis=0)\n",
    "    \n",
    "    ####################################### M step ################################\n",
    "    \n",
    "    #musicmeanVectors=np.zeros([no,len(fft_music[0])])\n",
    "    #speechmeanvectors=np.zeros([no,len(fft_speech[0])])\n",
    "    for k in range(no):\n",
    "        for n in range(len(fft_music)):\n",
    "            musicmeanVectors[k] += z_music[n][k] * fft_music[n] \n",
    "        musicmeanVectors[k] = (1/N_music[k])*musicmeanVectors[k]\n",
    "    for k in range(no):\n",
    "        for n in range(len(fft_speech)):\n",
    "            speechmeanVectors[k] += z_speech[n][k] * fft_speech[n] \n",
    "        speechmeanVectors[k] = (1/N_speech[k])*speechmeanVectors[k] \n",
    "        \n",
    "        \n",
    "    \n",
    "    for k in range(no):\n",
    "\n",
    "        new_X=(fft_music-musicmeanVectors[k]).T\n",
    "\n",
    "        covariance_music[k]=np.dot(z_music[:,k]*new_X,new_X.T)\n",
    "        covariance_music[k] = 1/N_music[k]*covariance_music[k] \n",
    "        \n",
    "\n",
    "    for k in range(no):\n",
    "        new_X_speech=(fft_speech-speechmeanVectors[k]).T\n",
    "        covariance_speech[k]=np.dot(z_speech[:,k]*new_X_speech,new_X_speech.T)\n",
    "        covariance_speech[k] = 1/N_speech[k]*covariance_speech[k] \n",
    "        \n",
    "        \n",
    "        \n",
    "    for i in range(no):\n",
    "        pi_music[i]=(N_music[i]/len(fft_music))\n",
    "    for i in range(no):\n",
    "        pi_speech[i]=(N_speech[i]/len(fft_speech))\n",
    "        \n",
    "    l1=compute_logLikelihood(fft_music,pi_music,musicmeanVectors,covariance_music,no)\n",
    "    like_music.append(l1)\n",
    "    l2=compute_logLikelihood(fft_speech,pi_speech,speechmeanVectors,covariance_speech,no)\n",
    "    like_speech.append(l2)\n",
    "   "
   ]
  },
  {
   "cell_type": "code",
   "execution_count": 90,
   "metadata": {},
   "outputs": [
    {
     "data": {
      "image/png": "[encoded data removed]",
      "text/plain": [
       "<Figure size 432x288 with 1 Axes>"
      ]
     },
     "metadata": {
      "needs_background": "light"
     },
     "output_type": "display_data"
    },
    {
     "data": {
      "image/png": "[encoded data removed]",
      "text/plain": [
       "<Figure size 432x288 with 1 Axes>"
      ]
     },
     "metadata": {
      "needs_background": "light"
     },
     "output_type": "display_data"
    }
   ],
   "source": [
    "plt.plot(like_music)\n",
    "plt.show()\n",
    "plt.plot(like_speech)\n",
    "plt.show()"
   ]
  },
  {
   "cell_type": "code",
   "execution_count": 91,
   "metadata": {},
   "outputs": [
    {
     "name": "stdout",
     "output_type": "stream",
     "text": [
      "0.9791666666666666\n"
     ]
    }
   ],
   "source": [
    "no=2\n",
    "\n",
    "count=0\n",
    "for i in range(len(test_data)):\n",
    "    \n",
    "    \n",
    "        fft_test=specto_test(mag_fft,test_data[i])\n",
    "        \n",
    "        lgmusic=compute_logLikelihood(fft_test,pi_music,musicmeanVectors,covariance_music,no)\n",
    "        lgspeech=compute_logLikelihood(fft_test,pi_speech,speechmeanVectors,covariance_speech,no)\n",
    "        \n",
    "        if(lgmusic>lgspeech):\n",
    "            if(i<=23):\n",
    "                count=count+1\n",
    "            \n",
    "            \n",
    "        else:\n",
    "            if(i>=24):\n",
    "                count=count+1\n",
    "            \n",
    "print(count/48)"
   ]
  },
  {
   "cell_type": "code",
   "execution_count": 92,
   "metadata": {},
   "outputs": [
    {
     "name": "stdout",
     "output_type": "stream",
     "text": [
      "the Error is  0.02083333333333337\n"
     ]
    }
   ],
   "source": [
    "print(\"the Error is \",(1-(count/48)))"
   ]
  },
  {
   "cell_type": "markdown",
   "metadata": {},
   "source": [
    "5 mixtures"
   ]
  },
  {
   "cell_type": "code",
   "execution_count": 93,
   "metadata": {},
   "outputs": [
    {
     "name": "stdout",
     "output_type": "stream",
     "text": [
      "119880 32\n"
     ]
    }
   ],
   "source": [
    "import random\n",
    "X=fft_music\n",
    "m=len(X)\n",
    "n=len(X[0])\n",
    "print(m,n)\n",
    "n_iter=1\n",
    "K=5\n",
    "\n",
    "center=np.array([]).reshape(n,0)\n",
    "center.shape\n",
    "\n",
    "for i in range(K):\n",
    "    rand=random.randint(0,m-1)\n",
    "    center=np.c_[center,X[rand]]\n",
    "    \n",
    "output_music={}\n",
    "\n",
    "for i in range(n_iter):\n",
    "    EuclidDist=np.array([]).reshape(m,0)\n",
    "    for k in range(K):\n",
    "        tempDist=np.sum((X-center[:,k])**2,axis=1)\n",
    "        EuclidDist=np.c_[EuclidDist,tempDist]\n",
    "    C=np.argmin(EuclidDist,axis=1)+1\n",
    "\n",
    "#     print(np.shape(C))\n",
    "    ans=[0]*(len(fft_music))\n",
    "    Y={}\n",
    "    for k in range(K):\n",
    "        Y[k+1]=np.array([]).reshape(n,0)\n",
    "    \n",
    "    for i in range(m):\n",
    "        Y[C[i]]=np.c_[Y[C[i]],X[i]]\n",
    "\n",
    "    for k in range(K):\n",
    "        Y[k+1]=Y[k+1].T\n",
    "\n",
    "    for k in range(K):\n",
    "         center[:,k]=np.mean(Y[k+1],axis=0)\n",
    "    output_music=Y  \n",
    "mean_music=center.T\n",
    "\n"
   ]
  },
  {
   "cell_type": "code",
   "execution_count": 94,
   "metadata": {},
   "outputs": [
    {
     "name": "stdout",
     "output_type": "stream",
     "text": [
      "119880 32\n"
     ]
    }
   ],
   "source": [
    "import random\n",
    "X=fft_speech\n",
    "m=len(X)\n",
    "n=len(X[0])\n",
    "print(m,n)\n",
    "n_iter=1\n",
    "K=5\n",
    "\n",
    "center=np.array([]).reshape(n,0)\n",
    "center.shape\n",
    "\n",
    "for i in range(K):\n",
    "    rand=random.randint(0,m-1)\n",
    "    center=np.c_[center,X[rand]]\n",
    "    \n",
    "output_speech={}\n",
    "\n",
    "for i in range(n_iter):\n",
    "    EuclidDist=np.array([]).reshape(m,0)\n",
    "    for k in range(K):\n",
    "        tempDist=np.sum((X-center[:,k])**2,axis=1)\n",
    "        EuclidDist=np.c_[EuclidDist,tempDist]\n",
    "    C=np.argmin(EuclidDist,axis=1)+1\n",
    "\n",
    "#     print(np.shape(C))\n",
    "    ans=[0]*(len(fft_music))\n",
    "    Y={}\n",
    "    for k in range(K):\n",
    "        Y[k+1]=np.array([]).reshape(n,0)\n",
    "    \n",
    "    for i in range(m):\n",
    "        Y[C[i]]=np.c_[Y[C[i]],X[i]]\n",
    "\n",
    "    for k in range(K):\n",
    "        Y[k+1]=Y[k+1].T\n",
    "\n",
    "    for k in range(K):\n",
    "         center[:,k]=np.mean(Y[k+1],axis=0)\n",
    "    output_speech=Y  \n",
    "mean_speech=center.T\n",
    "count=0\n",
    "\n"
   ]
  },
  {
   "cell_type": "code",
   "execution_count": 132,
   "metadata": {},
   "outputs": [],
   "source": [
    "count=0\n",
    "X=fft_music\n",
    "label_music=[1]*len(X)\n",
    "for i in range(len(X)):\n",
    "    if(X[i] in output_music[2]):\n",
    "        count+=1\n",
    "        label_music[i]=2\n",
    "    elif(X[i] in output_music[3]):\n",
    "        label_music[i]=3\n",
    "    elif(X[i] in output_music[4]):\n",
    "        label_music[i]=4\n",
    "    elif(X[i] in output_music[5]):\n",
    "        label_music[i]=5\n"
   ]
  },
  {
   "cell_type": "code",
   "execution_count": null,
   "metadata": {},
   "outputs": [],
   "source": [
    "X=fft_speech\n",
    "label_speech=[1]*len(X)\n",
    "for i in range(len(X)):\n",
    "    if(X[i] in output_speech[2]):\n",
    "        label_speech[i]=2\n",
    "    elif(X[i] in output_speech[3]):\n",
    "        label_speech[i]=3\n",
    "    elif(X[i] in output_speech[4]):\n",
    "        label_speech[i]=4\n",
    "    elif(X[i] in output_speech[5]):\n",
    "        label_speech[i]=5"
   ]
  },
  {
   "cell_type": "code",
   "execution_count": 110,
   "metadata": {},
   "outputs": [
    {
     "name": "stdout",
     "output_type": "stream",
     "text": [
      "38212\n",
      "18223\n",
      "34347\n",
      "7355\n",
      "21743\n"
     ]
    }
   ],
   "source": [
    "X=fft_music\n",
    "music_Data1=[]\n",
    "music_Data2=[]\n",
    "music_Data3=[]\n",
    "music_Data4=[]\n",
    "music_Data5=[]\n",
    "for i in range(len(label_music)):\n",
    "    if(label_music[i]==1):\n",
    "        music_Data1.append(X[i])\n",
    "    elif(label_music[i]==2):\n",
    "        music_Data2.append(X[i])\n",
    "    elif(label_music[i]==3):\n",
    "        music_Data3.append(X[i])\n",
    "    elif(label_music[i]==4):\n",
    "        music_Data4.append(X[i])\n",
    "    else:\n",
    "        music_Data5.append(X[i])\n",
    "music_Data1=np.array(music_Data1)\n",
    "music_Data2=np.array(music_Data2)\n",
    "music_Data3=np.array(music_Data3)\n",
    "music_Data4=np.array(music_Data4)\n",
    "music_Data5=np.array(music_Data5)\n",
    "musicmeanVectors=mean_music\n",
    "covariance_music=[]\n",
    "\n",
    "\n",
    "\n",
    "covariance_music.append(cov_mat(music_Data1))\n",
    "covariance_music.append(cov_mat(music_Data2))\n",
    "\n",
    "covariance_music.append(cov_mat(music_Data3))\n",
    "covariance_music.append(cov_mat(music_Data4))\n",
    "covariance_music.append(cov_mat(music_Data5))\n",
    "covariance_music=np.array(covariance_music)\n",
    "pi_music=[]\n",
    "pi_music.append(len(music_Data1)/len(X))\n",
    "pi_music.append(len(music_Data2)/len(X))\n",
    "pi_music.append(len(music_Data3)/len(X))\n",
    "pi_music.append(len(music_Data4)/len(X))\n",
    "pi_music.append(len(music_Data5)/len(X))\n"
   ]
  },
  {
   "cell_type": "code",
   "execution_count": 111,
   "metadata": {},
   "outputs": [
    {
     "name": "stdout",
     "output_type": "stream",
     "text": [
      "8589\n",
      "6407\n",
      "36858\n",
      "26438\n",
      "41588\n"
     ]
    }
   ],
   "source": [
    "X=fft_speech\n",
    "speech_Data1=[]\n",
    "speech_Data2=[]\n",
    "speech_Data3=[]\n",
    "speech_Data4=[]\n",
    "speech_Data5=[]\n",
    "for i in range(len(label_speech)):\n",
    "    if(label_speech[i]==1):\n",
    "        speech_Data1.append(X[i])\n",
    "    elif(label_speech[i]==2):\n",
    "        speech_Data2.append(X[i])\n",
    "    elif(label_speech[i]==3):\n",
    "        speech_Data3.append(X[i])\n",
    "    elif(label_speech[i]==4):\n",
    "        speech_Data4.append(X[i])\n",
    "    else:\n",
    "        speech_Data5.append(X[i])\n",
    "speech_Data1=np.array(speech_Data1)\n",
    "speech_Data2=np.array(speech_Data2)\n",
    "speech_Data3=np.array(speech_Data3)\n",
    "speech_Data4=np.array(speech_Data4)\n",
    "speech_Data5=np.array(speech_Data5)\n",
    "speechmeanVectors=mean_speech\n",
    "covariance_speech=[]\n",
    "\n",
    "\n",
    "\n",
    "covariance_speech.append(cov_mat(speech_Data1))\n",
    "covariance_speech.append(cov_mat(speech_Data2))\n",
    "\n",
    "covariance_speech.append(cov_mat(speech_Data3))\n",
    "covariance_speech.append(cov_mat(speech_Data4))\n",
    "covariance_speech.append(cov_mat(speech_Data5))\n",
    "covariance_speech=np.array(covariance_speech)\n",
    "pi_speech=[]\n",
    "pi_speech.append(len(speech_Data1)/len(X))\n",
    "pi_speech.append(len(speech_Data2)/len(X))\n",
    "pi_speech.append(len(speech_Data3)/len(X))\n",
    "pi_speech.append(len(speech_Data4)/len(X))\n",
    "pi_speech.append(len(speech_Data5)/len(X))\n"
   ]
  },
  {
   "cell_type": "code",
   "execution_count": 107,
   "metadata": {},
   "outputs": [],
   "source": [
    "no=5\n",
    "like_music=[compute_logLikelihood(fft_music,pi_music,musicmeanVectors,covariance_music,no)]\n",
    "like_speech=[compute_logLikelihood(fft_speech,pi_speech,speechmeanVectors,covariance_speech,no)]"
   ]
  },
  {
   "cell_type": "code",
   "execution_count": 112,
   "metadata": {},
   "outputs": [],
   "source": [
    "c=0\n",
    "while True:\n",
    "    no=5\n",
    "    c=c+1\n",
    "    if(c==2):\n",
    "        break\n",
    "    z_music=np.zeros((len(fft_music), no))\n",
    "    z_speech=np.zeros((len(fft_speech), no))\n",
    "    ############################ E step ###########################\n",
    "    for n in range(len(fft_music)):\n",
    "            for k in range(no):\n",
    "                z_music[n][k] = pi_music[k] * multivariate(fft_music[n], musicmeanVectors[k], covariance_music[k])\n",
    "                z_music[n][k] /= sum([pi_music[j]*multivariate(fft_music[n], musicmeanVectors[j], covariance_music[j]) for j in range(no)])\n",
    "    for n in range(len(fft_speech)):\n",
    "            for k in range(no):\n",
    "                z_speech[n][k] = pi_speech[k] * multivariate(fft_speech[n], speechmeanVectors[k], covariance_speech[k])\n",
    "                z_speech[n][k] /= sum([pi_speech[j]*multivariate(fft_speech[n], speechmeanVectors[j], covariance_speech[j]) for j in range(no)])\n",
    "    N_speech=np.sum(z_speech,axis=0)\n",
    "    N_music=np.sum(z_music,axis=0)\n",
    "    \n",
    "    ####################################### M step ################################\n",
    "    \n",
    "    #musicmeanVectors=np.zeros([no,len(fft_music[0])])\n",
    "    #speechmeanvectors=np.zeros([no,len(fft_speech[0])])\n",
    "    for k in range(no):\n",
    "        for n in range(len(fft_music)):\n",
    "            musicmeanVectors[k] += z_music[n][k] * fft_music[n] \n",
    "        musicmeanVectors[k] = (1/N_music[k])*musicmeanVectors[k]\n",
    "    for k in range(no):\n",
    "        for n in range(len(fft_speech)):\n",
    "            speechmeanVectors[k] += z_speech[n][k] * fft_speech[n] \n",
    "        speechmeanVectors[k] = (1/N_speech[k])*speechmeanVectors[k] \n",
    "        \n",
    "        \n",
    "    #covariance_music = [np.zeros((len(fft_music[0]), len(fft_music[0]))) for k in range(no)]\n",
    "    #covariance_speech = [np.zeros((len(fft_music[0]), len(fft_music[0]))) for k in range(no)]\n",
    "\n",
    "                # Updating the covariance matrices\n",
    "    for k in range(no):\n",
    "\n",
    "        new_X=(fft_music-musicmeanVectors[k]).T\n",
    "\n",
    "        covariance_music[k]=np.dot(z_music[:,k]*new_X,new_X.T)\n",
    "        covariance_music[k] = 1/N_music[k]*covariance_music[k] \n",
    "        \n",
    "\n",
    "    for k in range(no):\n",
    "        new_X_speech=(fft_speech-speechmeanVectors[k]).T\n",
    "        covariance_speech[k]=np.dot(z_speech[:,k]*new_X_speech,new_X_speech.T)\n",
    "        covariance_speech[k] = 1/N_speech[k]*covariance_speech[k] \n",
    "        \n",
    "        \n",
    "        \n",
    "    for i in range(no):\n",
    "        pi_music[i]=(N_music[i]/len(fft_music))\n",
    "    for i in range(no):\n",
    "        pi_speech[i]=(N_speech[i]/len(fft_speech))\n",
    "        \n",
    "l1=compute_logLikelihood(fft_music,pi_music,musicmeanVectors,covariance_music,no)\n",
    "like_music.append(l1)\n",
    "l2=compute_logLikelihood(fft_speech,pi_speech,speechmeanVectors,covariance_speech,no)\n",
    "like_speech.append(l2)   \n",
    "   "
   ]
  },
  {
   "cell_type": "code",
   "execution_count": 168,
   "metadata": {},
   "outputs": [
    {
     "data": {
      "image/png": "[encoded data removed]",
      "text/plain": [
       "<Figure size 432x288 with 1 Axes>"
      ]
     },
     "metadata": {
      "needs_background": "light"
     },
     "output_type": "display_data"
    },
    {
     "data": {
      "image/png": "[encoded data removed]",
      "text/plain": [
       "<Figure size 432x288 with 1 Axes>"
      ]
     },
     "metadata": {
      "needs_background": "light"
     },
     "output_type": "display_data"
    }
   ],
   "source": [
    "#Plotting the likelihood \n",
    "\n",
    "plt.plot(like_music)\n",
    "plt.show()\n",
    "plt.plot(like_speech)\n",
    "plt.show()"
   ]
  },
  {
   "cell_type": "code",
   "execution_count": 143,
   "metadata": {},
   "outputs": [],
   "source": [
    "\n",
    "no=5\n",
    "count=0\n",
    "for i in range(len(test_data)):\n",
    "    \n",
    "    \n",
    "        fft_test=specto_test(mag_fft,test_data[i])\n",
    "        \n",
    "        lgmusic=compute_logLikelihood(fft_test,pi_music,musicmeanVectors,covariance_music,no)\n",
    "        lgspeech=compute_logLikelihood(fft_test,pi_speech,speechmeanVectors,covariance_speech,no)\n",
    "        \n",
    "        if(lgmusic>lgspeech):\n",
    "            if(i<=23):\n",
    "                \n",
    "                count=count+1\n",
    "            \n",
    "        else:\n",
    "            if(i>=24):\n",
    "                \n",
    "                count=count+1\n",
    "            \n"
   ]
  },
  {
   "cell_type": "code",
   "execution_count": 142,
   "metadata": {},
   "outputs": [
    {
     "name": "stdout",
     "output_type": "stream",
     "text": [
      "The error here is  0.22916666666666663\n"
     ]
    }
   ],
   "source": [
    "print(\"The error here is \",1-(count/48))"
   ]
  },
  {
   "cell_type": "markdown",
   "metadata": {},
   "source": [
    "5 Mixtures with diagonal covariance matrix"
   ]
  },
  {
   "cell_type": "code",
   "execution_count": 125,
   "metadata": {},
   "outputs": [
    {
     "name": "stdout",
     "output_type": "stream",
     "text": [
      "38212\n",
      "18223\n",
      "34347\n",
      "7355\n",
      "21743\n"
     ]
    }
   ],
   "source": [
    "X=fft_music\n",
    "music_Data1=[]\n",
    "music_Data2=[]\n",
    "music_Data3=[]\n",
    "music_Data4=[]\n",
    "music_Data5=[]\n",
    "for i in range(len(label_music)):\n",
    "    if(label_music[i]==1):\n",
    "        music_Data1.append(X[i])\n",
    "    elif(label_music[i]==2):\n",
    "        music_Data2.append(X[i])\n",
    "    elif(label_music[i]==3):\n",
    "        music_Data3.append(X[i])\n",
    "    elif(label_music[i]==4):\n",
    "        music_Data4.append(X[i])\n",
    "    else:\n",
    "        music_Data5.append(X[i])\n",
    "music_Data1=np.array(music_Data1)\n",
    "music_Data2=np.array(music_Data2)\n",
    "music_Data3=np.array(music_Data3)\n",
    "music_Data4=np.array(music_Data4)\n",
    "music_Data5=np.array(music_Data5)\n",
    "musicmeanVectors=mean_music\n",
    "covariance_music=[]\n",
    "\n",
    "\n",
    "\n",
    "covariance_music.append(np.diag(np.diag(cov_mat(music_Data1))))\n",
    "covariance_music.append(np.diag(np.diag(cov_mat(music_Data2))))\n",
    "\n",
    "covariance_music.append(np.diag(np.diag(cov_mat(music_Data3))))\n",
    "covariance_music.append(np.diag(np.diag(cov_mat(music_Data4))))\n",
    "covariance_music.append(np.diag(np.diag(cov_mat(music_Data5))))\n",
    "covariance_music=np.array(covariance_music)\n",
    "pi_music=[]\n",
    "pi_music.append(len(music_Data1)/len(X))\n",
    "pi_music.append(len(music_Data2)/len(X))\n",
    "pi_music.append(len(music_Data3)/len(X))\n",
    "pi_music.append(len(music_Data4)/len(X))\n",
    "pi_music.append(len(music_Data5)/len(X))\n"
   ]
  },
  {
   "cell_type": "code",
   "execution_count": 126,
   "metadata": {},
   "outputs": [
    {
     "name": "stdout",
     "output_type": "stream",
     "text": [
      "8589\n",
      "6407\n",
      "36858\n",
      "26438\n",
      "41588\n"
     ]
    }
   ],
   "source": [
    "X=fft_speech\n",
    "speech_Data1=[]\n",
    "speech_Data2=[]\n",
    "speech_Data3=[]\n",
    "speech_Data4=[]\n",
    "speech_Data5=[]\n",
    "for i in range(len(label_speech)):\n",
    "    if(label_speech[i]==1):\n",
    "        speech_Data1.append(X[i])\n",
    "    elif(label_speech[i]==2):\n",
    "        speech_Data2.append(X[i])\n",
    "    elif(label_speech[i]==3):\n",
    "        speech_Data3.append(X[i])\n",
    "    elif(label_speech[i]==4):\n",
    "        speech_Data4.append(X[i])\n",
    "    else:\n",
    "        speech_Data5.append(X[i])\n",
    "speech_Data1=np.array(speech_Data1)\n",
    "speech_Data2=np.array(speech_Data2)\n",
    "speech_Data3=np.array(speech_Data3)\n",
    "speech_Data4=np.array(speech_Data4)\n",
    "speech_Data5=np.array(speech_Data5)\n",
    "speechmeanVectors=mean_speech\n",
    "covariance_speech=[]\n",
    "\n",
    "\n",
    "\n",
    "covariance_speech.append(np.diag(np.diag(cov_mat(speech_Data1))))\n",
    "covariance_speech.append(np.diag(np.diag(cov_mat(speech_Data2))))\n",
    "\n",
    "covariance_speech.append(np.diag(np.diag(cov_mat(speech_Data3))))\n",
    "covariance_speech.append(np.diag(np.diag(cov_mat(speech_Data4))))\n",
    "covariance_speech.append(np.diag(np.diag(cov_mat(speech_Data5))))\n",
    "covariance_speech=np.array(covariance_speech)\n",
    "pi_speech=[]\n",
    "pi_speech.append(len(music_Data1)/len(X))\n",
    "pi_speech.append(len(music_Data2)/len(X))\n",
    "pi_speech.append(len(music_Data3)/len(X))\n",
    "pi_speech.append(len(music_Data4)/len(X))\n",
    "pi_speech.append(len(music_Data5)/len(X))\n"
   ]
  },
  {
   "cell_type": "code",
   "execution_count": 127,
   "metadata": {},
   "outputs": [],
   "source": [
    "like_music=[compute_logLikelihood(fft_music,pi_music,musicmeanVectors,covariance_music,no)]\n",
    "like_speech=[compute_logLikelihood(fft_speech,pi_speech,speechmeanVectors,covariance_speech,no)]"
   ]
  },
  {
   "cell_type": "code",
   "execution_count": 129,
   "metadata": {},
   "outputs": [],
   "source": [
    "c=0\n",
    "while True:\n",
    "    no=5\n",
    "    c=c+1\n",
    "    if(c==3):\n",
    "        break\n",
    "    z_music=np.zeros((len(fft_music), no))\n",
    "    z_speech=np.zeros((len(fft_speech), no))\n",
    "    ############################ E step ###########################\n",
    "    for n in range(len(fft_music)):\n",
    "            for k in range(no):\n",
    "                z_music[n][k] = pi_music[k] * multivariate(fft_music[n], musicmeanVectors[k], covariance_music[k])\n",
    "                z_music[n][k] /= sum([pi_music[j]*multivariate(fft_music[n], musicmeanVectors[j], covariance_music[j]) for j in range(no)])\n",
    "    for n in range(len(fft_speech)):\n",
    "            for k in range(no):\n",
    "                z_speech[n][k] = pi_speech[k] * multivariate(fft_speech[n], speechmeanVectors[k], covariance_speech[k])\n",
    "                z_speech[n][k] /= sum([pi_speech[j]*multivariate(fft_speech[n], speechmeanVectors[j], covariance_speech[j]) for j in range(no)])\n",
    "    N_speech=np.sum(z_speech,axis=0)\n",
    "    N_music=np.sum(z_music,axis=0)\n",
    "    \n",
    "    ####################################### M step ################################\n",
    "    \n",
    "    #musicmeanVectors=np.zeros([no,len(fft_music[0])])\n",
    "    #speechmeanvectors=np.zeros([no,len(fft_speech[0])])\n",
    "    for k in range(no):\n",
    "        for n in range(len(fft_music)):\n",
    "            musicmeanVectors[k] += z_music[n][k] * fft_music[n] \n",
    "        musicmeanVectors[k] = (1/N_music[k])*musicmeanVectors[k]\n",
    "    for k in range(no):\n",
    "        for n in range(len(fft_speech)):\n",
    "            speechmeanVectors[k] += z_speech[n][k] * fft_speech[n] \n",
    "        speechmeanVectors[k] = (1/N_speech[k])*speechmeanVectors[k] \n",
    "        \n",
    "        \n",
    "    #covariance_music = [np.zeros((len(fft_music[0]), len(fft_music[0]))) for k in range(no)]\n",
    "    #covariance_speech = [np.zeros((len(fft_music[0]), len(fft_music[0]))) for k in range(no)]\n",
    "\n",
    "                # Updating the covariance matrices\n",
    "    for k in range(no):\n",
    "\n",
    "        new_X=(fft_music-musicmeanVectors[k]).T\n",
    "\n",
    "        covariance_music[k]=np.diag(np.diag(np.dot(z_music[:,k]*new_X,new_X.T)))\n",
    "        covariance_music[k] = 1/N_music[k]*covariance_music[k] \n",
    "        \n",
    "\n",
    "    for k in range(no):\n",
    "        new_X_speech=(fft_speech-speechmeanVectors[k]).T\n",
    "        covariance_speech[k]=np.diag(np.diag(np.dot(z_speech[:,k]*new_X_speech,new_X_speech.T)))\n",
    "        covariance_speech[k] = 1/N_speech[k]*covariance_speech[k] \n",
    "        \n",
    "        \n",
    "        \n",
    "    for i in range(no):\n",
    "        pi_music[i]=(N_music[i]/len(fft_music))\n",
    "    for i in range(no):\n",
    "        pi_speech[i]=(N_speech[i]/len(fft_speech))\n",
    "    l1=compute_logLikelihood(fft_music,pi_music,musicmeanVectors,covariance_music,no)\n",
    "    like_music.append(l1)\n",
    "    l2=compute_logLikelihood(fft_speech,pi_speech,speechmeanVectors,covariance_speech,no)\n",
    "    like_speech.append(l2)\n",
    "   \n",
    "   "
   ]
  },
  {
   "cell_type": "code",
   "execution_count": 140,
   "metadata": {},
   "outputs": [
    {
     "name": "stdout",
     "output_type": "stream",
     "text": [
      "Likelihood of music is \n"
     ]
    },
    {
     "data": {
      "image/png": "[encoded data removed]",
      "text/plain": [
       "<Figure size 432x288 with 1 Axes>"
      ]
     },
     "metadata": {
      "needs_background": "light"
     },
     "output_type": "display_data"
    },
    {
     "name": "stdout",
     "output_type": "stream",
     "text": [
      "Likelihood of speech is \n"
     ]
    },
    {
     "data": {
      "image/png": "[encoded data removed]",
      "text/plain": [
       "<Figure size 432x288 with 1 Axes>"
      ]
     },
     "metadata": {
      "needs_background": "light"
     },
     "output_type": "display_data"
    }
   ],
   "source": [
    "print(\"Likelihood of music is \")\n",
    "\n",
    "plt.plot(like_music)\n",
    "plt.show()\n",
    "\n",
    "print(\"Likelihood of speech is \")\n",
    "\n",
    "plt.plot(like_speech)\n",
    "plt.show()\n"
   ]
  },
  {
   "cell_type": "code",
   "execution_count": 120,
   "metadata": {},
   "outputs": [
    {
     "name": "stdout",
     "output_type": "stream",
     "text": [
      "0.8958333333333334\n"
     ]
    }
   ],
   "source": [
    "no=5\n",
    "\n",
    "count=0\n",
    "for i in range(len(test_data)):\n",
    "    \n",
    "    \n",
    "        fft_test=specto_test(mag_fft,test_data[i])\n",
    "        \n",
    "        lgmusic=compute_logLikelihood(fft_test,pi_music,musicmeanVectors,covariance_music,no)\n",
    "        lgspeech=compute_logLikelihood(fft_test,pi_speech,speechmeanVectors,covariance_speech,no)\n",
    "        \n",
    "        if(lgmusic>lgspeech):\n",
    "            if(i<=23):\n",
    "                #print(\"music\")\n",
    "                count=count+1\n",
    "            \n",
    "        else:\n",
    "            if(i>=24):\n",
    "                #print(\"speech\")\n",
    "                count=count+1\n",
    "            \n",
    "print(count/48)"
   ]
  },
  {
   "cell_type": "code",
   "execution_count": 122,
   "metadata": {},
   "outputs": [
    {
     "name": "stdout",
     "output_type": "stream",
     "text": [
      "The error rate is  0.10416666666666663\n"
     ]
    }
   ],
   "source": [
    "print(\"The error rate is \",(1-count/48))"
   ]
  },
  {
   "cell_type": "markdown",
   "metadata": {},
   "source": [
    "The Error Rate at 2 Mixture with diagonal covariance is 17 %.\n",
    "\n",
    "The Error Rate at 2 Mixture with full covariance is 2 %\n",
    "\n",
    "The Error Rate at 5 Mixture with full covariance is 23 %\n",
    "\n",
    "The Error Rate at 5 Mixture with diagonal covariance is 10 %\n",
    "\n",
    "In case of full covariance prone to overfitting on small datasets and does not perform well to held out on test data.Similarily the case with number the increase in the number of mixtures it might perform well on training data but overfit on test data."
   ]
  },
  {
   "cell_type": "code",
   "execution_count": null,
   "metadata": {},
   "outputs": [],
   "source": []
  }
 ],
 "metadata": {
  "kernelspec": {
   "display_name": "Python 3",
   "language": "python",
   "name": "python3"
  },
  "language_info": {
   "codemirror_mode": {
    "name": "ipython",
    "version": 3
   },
   "file_extension": ".py",
   "mimetype": "text/x-python",
   "name": "python",
   "nbconvert_exporter": "python",
   "pygments_lexer": "ipython3",
   "version": "3.8.5"
  }
 },
 "nbformat": 4,
 "nbformat_minor": 4
}
