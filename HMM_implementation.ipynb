{
 "cells": [
  {
   "cell_type": "code",
   "execution_count": 1,
   "metadata": {},
   "outputs": [],
   "source": [
    "import glob\n",
    "import os\n",
    "import sys\n",
    "import numpy as np\n",
    "import matplotlib\n",
    "from scipy.fftpack import fft\n",
    "from scipy.fft import fft, rfft\n",
    "from scipy.io import wavfile \n",
    "import IPython.display as ipd\n",
    "import matplotlib.pyplot as plt\n",
    "from matplotlib.pyplot import specgram\n",
    "from scipy.stats import multivariate_normal\n",
    "import librosa\n",
    "import librosa.display\n",
    "from sklearn.cluster import KMeans\n",
    "\n",
    "\n",
    "import math\n",
    "from glob import glob\n"
   ]
  },
  {
   "cell_type": "code",
   "execution_count": 2,
   "metadata": {},
   "outputs": [],
   "source": [
    "\n",
    "shift_time=10   #10ms\n",
    "window_time=25    #25ms\n",
    "music_sr=[]\n",
    "\n"
   ]
  },
  {
   "cell_type": "code",
   "execution_count": 3,
   "metadata": {},
   "outputs": [],
   "source": [
    "# Read the data from the .wav files\n",
    "def read_data(dir):\n",
    "     \n",
    "    audio_files = glob(dir+'/*.wav')\n",
    "    samplerate, data = wavfile.read(audio_files[0])\n",
    "    sh=int(samplerate*shift_time*0.001)\n",
    "    No_of_shift = len(range(0,len(data),sh))\n",
    "    window_length=int(samplerate*window_time*0.001)\n",
    "     # This will have data of all the files which are given in the dir\n",
    "    final_data=np.zeros((len(audio_files),No_of_shift-3,window_length))     \n",
    "    for file in range(len(audio_files)):\n",
    "        \n",
    "        samplerate, data = wavfile.read(audio_files[file])\n",
    "        window_length=int(samplerate*window_time*0.001)\n",
    "        sh=int(samplerate*shift_time*0.001)  #160\n",
    "        No_of_shift = len(range(0,len(data),sh))\n",
    "        hamming_output=np.hamming(window_length)\n",
    "        j=0\n",
    "        for i in range(No_of_shift-3):\n",
    "            if(len(data[j:])>=window_length):\n",
    "                final_data[file][i][:]=(data[j:j+window_length] *hamming_output)\n",
    "            else:\n",
    "                break\n",
    "            j=j+sh\n",
    "    return final_data                  # return the final data"
   ]
  },
  {
   "cell_type": "code",
   "execution_count": 4,
   "metadata": {},
   "outputs": [],
   "source": [
    "# Take the data convert into spectrogram\n",
    "def specto(mag_fft,final_data):\n",
    "    audio_files = glob(data_dir+'/*.wav')\n",
    "    fft_data=np.zeros([len(audio_files)*(No_of_shift-3),32])\n",
    "    k=0\n",
    "    for file in range(0, len(audio_files),1):\n",
    "        \n",
    "        fft=np.log(np.absolute(np.fft.fft(final_data[file],mag_fft)))\n",
    "        newfft=np.zeros([No_of_shift-3,32])\n",
    "        newfft=fft[:,0:32]\n",
    "#         fft=np.log(np.absolute(np.fft.rfft(final_data[file],mag_fft)))\n",
    "#         newfft=fft[:,0:32]\n",
    "        for i in range(No_of_shift-3):\n",
    "            fft_data[k,:]=newfft[i,:]\n",
    "            k=k+1\n",
    "    return fft_data"
   ]
  },
  {
   "cell_type": "code",
   "execution_count": 5,
   "metadata": {},
   "outputs": [],
   "source": [
    "#plotting the spectrogram\n",
    "def plot_spec(data):\n",
    "    plt.figure(figsize=(24,14))\n",
    "    plt.imshow((data.T))\n",
    "    plt.show()"
   ]
  },
  {
   "cell_type": "code",
   "execution_count": 6,
   "metadata": {},
   "outputs": [],
   "source": [
    "#Returning a covariance matrix\n",
    "def cov_mat(fft_data):\n",
    "    print(len(fft_data))\n",
    "    cov_mat=np.matmul(fft_data.T,fft_data)\n",
    "    cov_mat=cov_mat/len(fft_data-1)\n",
    "    return cov_mat"
   ]
  },
  {
   "cell_type": "code",
   "execution_count": 7,
   "metadata": {},
   "outputs": [],
   "source": [
    "data_dir = 'speechMusicData/speech_music_classification/train/music'\n",
    "audio_files = glob(data_dir+'/*.wav')                #get the data of all the music files\n",
    "samplerate, data = wavfile.read(audio_files[0])\n",
    "sh=int(samplerate*shift_time*0.001)\n",
    "No_of_shift = len(range(0,len(data),sh))\n",
    "window_length=int(samplerate*window_time*0.001)\n"
   ]
  },
  {
   "cell_type": "code",
   "execution_count": 8,
   "metadata": {},
   "outputs": [
    {
     "name": "stdout",
     "output_type": "stream",
     "text": [
      "(40, 2997, 400)\n"
     ]
    }
   ],
   "source": [
    "music_data=read_data(data_dir)                #[40][2997][400]\n",
    "data_dir = 'speechMusicData/speech_music_classification/train/speech'   #get the data of all the speech files\n",
    "speech_data=read_data(data_dir)\n",
    "print(np.shape(music_data))"
   ]
  },
  {
   "cell_type": "code",
   "execution_count": 9,
   "metadata": {},
   "outputs": [
    {
     "name": "stdout",
     "output_type": "stream",
     "text": [
      "(119880, 32)\n",
      "(119880, 32)\n"
     ]
    },
    {
     "data": {
      "text/plain": [
       "(239760, 32)"
      ]
     },
     "execution_count": 9,
     "metadata": {},
     "output_type": "execute_result"
    }
   ],
   "source": [
    "mag_fft=64\n",
    "# 64 component magnitude FFT of music and take the 32 dimensions of it\n",
    "fft_music=specto(mag_fft,music_data)           \n",
    "fft_speech=specto(mag_fft,speech_data)\n",
    "print(np.shape(fft_music))\n",
    "print(np.shape(fft_speech))\n",
    "# combine both the music and speech data\n",
    "fft_data=np.concatenate((fft_music, fft_speech), axis=0)\n",
    "np.shape(fft_data)"
   ]
  },
  {
   "cell_type": "code",
   "execution_count": 10,
   "metadata": {},
   "outputs": [],
   "source": [
    "def Kmeans(fft_data):\n",
    "    kmean=KMeans(n_clusters=8,max_iter=5)\n",
    "    kmean.fit(fft_data)\n",
    "    return kmean\n",
    "data_mean=Kmeans(fft_data)"
   ]
  },
  {
   "cell_type": "markdown",
   "metadata": {},
   "source": [
    "Storing all the observation in observ"
   ]
  },
  {
   "cell_type": "code",
   "execution_count": 11,
   "metadata": {},
   "outputs": [
    {
     "data": {
      "text/plain": [
       "array([6, 6, 6, ..., 3, 3, 2])"
      ]
     },
     "execution_count": 11,
     "metadata": {},
     "output_type": "execute_result"
    }
   ],
   "source": [
    "meanVectors=data_mean.cluster_centers_\n",
    "data_labeling=data_mean.labels_\n",
    "data_labeling"
   ]
  },
  {
   "cell_type": "code",
   "execution_count": 12,
   "metadata": {},
   "outputs": [],
   "source": [
    "nof=40\n",
    "T=2997\n",
    "observ_music=np.zeros((40,2997),dtype=int)\n",
    "observ_speech=np.zeros((40,2997),dtype=int)\n",
    "k=0\n",
    "for i in range(nof):\n",
    "    for j in range(T):\n",
    "        observ_music[i][j]=data_labeling[k]\n",
    "        k=k+1\n",
    "        \n",
    "for i in range(nof):\n",
    "    for j in range(T):\n",
    "        observ_speech[i][j]=data_labeling[k]\n",
    "        k=k+1"
   ]
  },
  {
   "cell_type": "code",
   "execution_count": 13,
   "metadata": {},
   "outputs": [],
   "source": [
    "\n",
    "T=2997           #Initializing the T\n",
    "N=3              # Initializing the value of N\n",
    "   \n",
    "######################## Initializing the value of pi,A and B ##############\n",
    "pi=np.array([0.5,0.5,0.0])\n",
    "A=np.array([[0.6,0.4,0.0],[0.3,0.5,0.2],[0.0,0.1,0.9]])\n",
    "B=np.array([[0.25, 0.25 ,0.25 ,0.25, 0.0 ,0.0 ,0.0, 0.0],[0.125, 0.125 ,0.125 ,0.125,0.125, 0.125 ,0.125 ,0.125],[0.0 ,0.0, 0.0, 0.0 ,0.0 ,0.5 ,0.5 ,0.0]])\n"
   ]
  },
  {
   "cell_type": "markdown",
   "metadata": {},
   "source": [
    "Likelihood computation using the forward variable."
   ]
  },
  {
   "cell_type": "code",
   "execution_count": 14,
   "metadata": {},
   "outputs": [],
   "source": [
    "def forward(A,B,pi,observ):\n",
    "    sum=0\n",
    "    T=len(observ)\n",
    "    c=[0]*T\n",
    "    \n",
    "    N=A.shape[0]\n",
    "\n",
    "    ########################Initialization Step ################\n",
    "    alpha=np.zeros((T,N))\n",
    "    for i in range(N):\n",
    "        alpha[0][i]=B[i][observ[0]]*pi[i]\n",
    "        sum=sum+alpha[0][i]\n",
    "    c[0]=1/sum\n",
    "    \n",
    "    for i in range(N):\n",
    "        alpha[0][i]*=c[0]\n",
    "        \n",
    "    for t in range(1,T):\n",
    "        sum=0\n",
    "        for j in range(N):\n",
    "            alpha[t][j]=0\n",
    "            for i in range(N):\n",
    "                alpha[t][j]+=(alpha[t-1][i]*A[i][j])\n",
    "            alpha[t][j]*=B[j][observ[t]]\n",
    "            sum+=alpha[t][j]\n",
    "        c[t]=1/sum\n",
    "        #print(sum)\n",
    "        for i in range(N):\n",
    "            alpha[t][i]*=c[t]\n",
    "    sum=0\n",
    "    for i in range(T):\n",
    "        sum+=np.log(c[i])\n",
    "    sum=-sum\n",
    "    sum\n",
    "    return alpha,sum,c"
   ]
  },
  {
   "cell_type": "markdown",
   "metadata": {},
   "source": [
    "likelihood computation using the backward variable"
   ]
  },
  {
   "cell_type": "code",
   "execution_count": 15,
   "metadata": {},
   "outputs": [],
   "source": [
    "def backward(A,B,pi,observ,c):\n",
    "    sum=0\n",
    "    T=len(observ)\n",
    "   \n",
    "    N=A.shape[0]\n",
    "    Beta=np.zeros((T,N))\n",
    "    sum=0\n",
    "    \n",
    "    ### Intialization ##########\n",
    "    for i in range(N):\n",
    "        Beta[T-1][i]=1   \n",
    "    for i in range(N):\n",
    "        Beta[T-1][i]*=c[T-1]\n",
    "        \n",
    "        \n",
    "    for t in range(T-2,-1,-1):\n",
    "        \n",
    "        for i in range(N):\n",
    "            for j in range(N):\n",
    "                Beta[t][i]+=(Beta[t+1][j]*A[i][j]*B[j][observ[t+1]])\n",
    "            Beta[t][i]*=c[t]\n",
    "    sum=0\n",
    "    for i in range(T):\n",
    "        sum+=np.log(c[i])\n",
    "    sum=-sum\n",
    "    return Beta,sum"
   ]
  },
  {
   "cell_type": "markdown",
   "metadata": {},
   "source": [
    "Viterbi algorithm to decode the\n",
    "best state sequence"
   ]
  },
  {
   "cell_type": "code",
   "execution_count": 16,
   "metadata": {},
   "outputs": [],
   "source": [
    "def viterbi(A,B,pi,observ):\n",
    "    T=len(observ)\n",
    "    N=len(A)\n",
    "    Q=[1]*T\n",
    "    Delta=np.ones((T,N))\n",
    "    \n",
    "    tiny=1\n",
    "    log_A=np.log(tiny+A)\n",
    "    log_pi=np.log(tiny+pi)\n",
    "    log_B=np.log(tiny+B)\n",
    "    back=np.ones((T,N))\n",
    "    #Initialize\n",
    "\n",
    "    for i in range(N):\n",
    "        Delta[0][i]=log_B[i][observ[0]]+log_pi[i]\n",
    "        back[0][i]=0\n",
    "\n",
    "\n",
    "    for t in range(1,T):\n",
    "        for j in range(N):\n",
    "            max_i=float('-inf')\n",
    "\n",
    "            for i in range(N):\n",
    "                if (Delta[t-1][i] + log_A[i][j]) > max_i:\n",
    "                    back[t][j]=i\n",
    "                    max_i=Delta[t-1][i] + log_A[i][j]\n",
    "                    \n",
    "\n",
    "            Delta[t][j]=max_i + log_B[j][observ[t]]   \n",
    "\n",
    "    #### Termination###########\n",
    "    max_i=float('-inf')\n",
    "    for i in range(N):\n",
    "        if Delta[T-1][i]> max_i:\n",
    "            Q[T-1]=i\n",
    "            max_i=Delta[T-1][i]\n",
    "\n",
    "\n",
    "    for i in range(T-2,-1,-1):\n",
    "        Q[i]=int(back[i+1][Q[i+1]])\n",
    "    return Delta,Q"
   ]
  },
  {
   "cell_type": "markdown",
   "metadata": {},
   "source": [
    "Compute Gamma"
   ]
  },
  {
   "cell_type": "code",
   "execution_count": 17,
   "metadata": {},
   "outputs": [],
   "source": [
    "def compute_gamma(alpha,Beta):\n",
    "    T=len(alpha)\n",
    "    N=len(alpha[0])\n",
    "    gamma=np.zeros((T,N))\n",
    "    \n",
    "    for t in range(T):\n",
    "        sum=0\n",
    "        for i in range(N):\n",
    "            gamma[t][i]=alpha[t][i] * Beta[t][i]\n",
    "            sum+=gamma[t][i]\n",
    "        for i in range(N):\n",
    "            gamma[t][i]/=sum\n",
    "    return gamma"
   ]
  },
  {
   "cell_type": "markdown",
   "metadata": {},
   "source": [
    "Compute Zetta"
   ]
  },
  {
   "cell_type": "code",
   "execution_count": 18,
   "metadata": {},
   "outputs": [],
   "source": [
    "def compute_zetta(A,B,observ,alpha,Beta):                    # Till T or T-1\n",
    "    T=len(alpha)\n",
    "    N=len(alpha[0])\n",
    "    zetta=np.zeros((T-1,N,N))\n",
    "    for t in range(T-1):\n",
    "        sum=0\n",
    "        for i in range(N):\n",
    "            for j in range(N):\n",
    "                zetta[t][i][j]=(alpha[t][i]*A[i][j]*B[j][observ[t+1]]*Beta[t+1][j])\n",
    "                sum+=zetta[t][i][j]\n",
    "        zetta[t][i][j]/=sum\n",
    "    return zetta        "
   ]
  },
  {
   "cell_type": "markdown",
   "metadata": {},
   "source": [
    "compute A"
   ]
  },
  {
   "cell_type": "code",
   "execution_count": 19,
   "metadata": {},
   "outputs": [],
   "source": [
    "def compute_aij(zetta,gamma, i, j):\n",
    "    numerator=0.0\n",
    "    denominator=0.0\n",
    "    n_ob=len(zetta)\n",
    "    n_t=len(zetta[0])\n",
    "    \n",
    "    for k in range(n_ob):\n",
    "        for t in range(n_t):\n",
    "            numerator +=zetta[k][t][i][j]\n",
    "            denominator+=gamma[k][t][i]\n",
    "    ans=numerator/denominator\n",
    "    return ans"
   ]
  },
  {
   "cell_type": "code",
   "execution_count": 20,
   "metadata": {},
   "outputs": [],
   "source": [
    "def update_A(zetta,gamma):\n",
    "    \n",
    "    N=len(gamma[0][0])\n",
    "    n_A= np.zeros((N,N))\n",
    "    \n",
    "        \n",
    "    for i in range(N):\n",
    "        for j in range(N):\n",
    "            n_A[i][j]=compute_aij(zetta,gamma,i,j)\n",
    "    return n_A"
   ]
  },
  {
   "cell_type": "markdown",
   "metadata": {},
   "source": [
    "Compute B"
   ]
  },
  {
   "cell_type": "code",
   "execution_count": 21,
   "metadata": {},
   "outputs": [],
   "source": [
    "def compute_bi(gamma,i,observ,vk):\n",
    "    numerator=0.0\n",
    "    denominator=0.0\n",
    "    n_ob=len(gamma)\n",
    "    n_t=len(gamma[0])\n",
    "    s=0\n",
    "    for k in range(n_ob):\n",
    "        for t in range(n_t):\n",
    "            denominator+=gamma[k][t][i]\n",
    "            if observ[k][t]==vk:\n",
    "                numerator+=gamma[k][t][i]\n",
    "                s=s+1\n",
    "    bi=numerator/denominator\n",
    "    return bi\n",
    "    "
   ]
  },
  {
   "cell_type": "code",
   "execution_count": 22,
   "metadata": {},
   "outputs": [],
   "source": [
    "def compute_B(delta,gamma,symbol,observ):\n",
    "    N=len(gamma[0][0])\n",
    "    n_B=np.zeros((N,len(symbol)))\n",
    "    for i in range(N):\n",
    "        for vk in symbol:\n",
    "            n_B[i][vk]=compute_bi(gamma,i,observ,vk)\n",
    "    return n_B"
   ]
  },
  {
   "cell_type": "markdown",
   "metadata": {},
   "source": [
    "Compute pi"
   ]
  },
  {
   "cell_type": "code",
   "execution_count": 23,
   "metadata": {},
   "outputs": [],
   "source": [
    "def compute_pi(gamma):\n",
    "    N=len(gamma[0][0])\n",
    "    pi =np.zeros(N)\n",
    "    for i in range(N):\n",
    "        for k in range(len(gamma)): \n",
    "            pi[i] += gamma[k][0][i] \n",
    "    po=np.sum(pi)                 #normalize it\n",
    "    pi=pi/po\n",
    "    return pi"
   ]
  },
  {
   "cell_type": "markdown",
   "metadata": {},
   "source": [
    "Find Likelihood of all the files(either music or speech)"
   ]
  },
  {
   "cell_type": "code",
   "execution_count": 24,
   "metadata": {},
   "outputs": [],
   "source": [
    "def find_likelihood(A,B,pi,observ):\n",
    "    sum=0\n",
    "    for i in range(len(observ)):\n",
    "        alpha,likeli,c=forward(A,B,pi,observ[i])\n",
    "        sum+=likeli\n",
    "    return sum/len(observ)"
   ]
  },
  {
   "cell_type": "markdown",
   "metadata": {},
   "source": [
    "<br>\n",
    "\n",
    "\n",
    "\n",
    "            #########################   Part-A ###########################\n",
    "\n",
    "\n",
    "\n",
    "<br>\n"
   ]
  },
  {
   "cell_type": "code",
   "execution_count": 43,
   "metadata": {},
   "outputs": [],
   "source": [
    "from random import randrange\n",
    "mf=randrange(40)\n",
    "sf=randrange(40)"
   ]
  },
  {
   "cell_type": "code",
   "execution_count": 44,
   "metadata": {},
   "outputs": [],
   "source": [
    "ob_music=observ_music[mf]\n",
    "ob_speech=observ_speech[sf]\n",
    "alpha,like_music,cm=forward(A,B,pi,ob_music)\n",
    "alpha,like_speech,cp=forward(A,B,pi,ob_speech)"
   ]
  },
  {
   "cell_type": "code",
   "execution_count": 45,
   "metadata": {},
   "outputs": [
    {
     "name": "stdout",
     "output_type": "stream",
     "text": [
      "The Likelihoood using forward variable for music file is -5961.831865752121\n"
     ]
    }
   ],
   "source": [
    "print(\"The Likelihoood using forward variable for music file is\",like_music)"
   ]
  },
  {
   "cell_type": "code",
   "execution_count": 46,
   "metadata": {},
   "outputs": [
    {
     "name": "stdout",
     "output_type": "stream",
     "text": [
      "The Likelihoood using forward variable for speech file is -6487.665273682664\n"
     ]
    }
   ],
   "source": [
    "print(\"The Likelihoood using forward variable for speech file is\",like_speech)"
   ]
  },
  {
   "cell_type": "markdown",
   "metadata": {},
   "source": [
    "From here I have concluded that most of the times music likelihood is more compare to speech but i observe there are some files for which the speech is also more (for eg-> 39 file of music,39 file of speech) so from this i can say that it depends on which file you have taken for music and speech."
   ]
  },
  {
   "cell_type": "markdown",
   "metadata": {},
   "source": [
    "<br>\n",
    "<br>\n",
    "\n",
    "                ######################### Part-B ###########################\n",
    "\n",
    "<br>"
   ]
  },
  {
   "cell_type": "markdown",
   "metadata": {},
   "source": [
    "Here given by the Procedure in the book(and also the reference shared in teams) that i follow from there written in page 367\n",
    "\"Since each scale factor effectively restores the magnitude\n",
    "of the alpha terms to 1, and since the magnitudes of the alpha and\n",
    "beta terms are comparable, using the same scaling factors on\n",
    "the Beta's as was used on the alpha's is an effective way of keeping\n",
    "the computation within reasonable bounds\". I have used the same procedure written over there and compute Beta which is there in compute_B funtion. And since it is also written that in page 368\n",
    "\n",
    "\"The only real change to the HMM procedure because of\n",
    "scaling is the procedure for computing likelihood. We cannot\n",
    "merely sum up the alphaT(i) terms since these are scaled already.\"\n",
    "\n",
    "And they used a property written over there and shows that it negative(sum of all ci's)\n",
    "in equation(6.106) \n",
    "Since the procedure written in the book to compute the likelihood for the forward variable computation.\n",
    "And After scaling it is mentioned that we can not use alphaT so use Ci's for \n",
    "likelihood."
   ]
  },
  {
   "cell_type": "code",
   "execution_count": 47,
   "metadata": {},
   "outputs": [],
   "source": [
    "Beta,like_backm=backward(A,B,pi,ob_music,cm)\n",
    "Beta,like_backs=backward(A,B,pi,ob_speech,cp)"
   ]
  },
  {
   "cell_type": "code",
   "execution_count": 48,
   "metadata": {},
   "outputs": [
    {
     "name": "stdout",
     "output_type": "stream",
     "text": [
      "The Likelihoood using backward variable for music file is -5961.831865752121\n"
     ]
    }
   ],
   "source": [
    "print(\"The Likelihoood using backward variable for music file is\",like_backm)"
   ]
  },
  {
   "cell_type": "code",
   "execution_count": 49,
   "metadata": {},
   "outputs": [
    {
     "name": "stdout",
     "output_type": "stream",
     "text": [
      "The Likelihoood using backward variable for music file is -6487.665273682664\n"
     ]
    }
   ],
   "source": [
    "print(\"The Likelihoood using backward variable for music file is\",like_backs)"
   ]
  },
  {
   "cell_type": "markdown",
   "metadata": {},
   "source": [
    "<br>\n",
    "\n",
    "                ######################### Part-C ###########################\n",
    "\n",
    "<br>"
   ]
  },
  {
   "cell_type": "code",
   "execution_count": 32,
   "metadata": {},
   "outputs": [],
   "source": [
    "# find likelihood of all the music(average) and store it in a list\n",
    "musicprevlikeli=find_likelihood(A,B,pi,observ_music)\n",
    "listmusiclikeli=[]\n",
    "listmusiclikeli.append(musicprevlikeli)\n"
   ]
  },
  {
   "cell_type": "code",
   "execution_count": 33,
   "metadata": {},
   "outputs": [],
   "source": [
    "# find likelihood of all the speech(average) and store it in a list\n",
    "\n",
    "speechprevlikeli=find_likelihood(A,B,pi,observ_speech)\n",
    "listspeechlikeli=[]\n",
    "listspeechlikeli.append(speechprevlikeli)\n"
   ]
  },
  {
   "cell_type": "code",
   "execution_count": 34,
   "metadata": {},
   "outputs": [],
   "source": [
    "#initializing for music A,B and pi and for speech A,B and pi\n",
    "m_A=A\n",
    "s_A=A\n",
    "m_B=B\n",
    "s_B=B\n",
    "m_pi=pi\n",
    "s_pi=pi"
   ]
  },
  {
   "cell_type": "code",
   "execution_count": 35,
   "metadata": {},
   "outputs": [],
   "source": [
    "# Plotting the likelihoods for a given file\n",
    "def plotting(li,name):\n",
    "    plt.xlabel('no of iterations')\n",
    "\n",
    "    plt.ylabel('Log-likelihood')\n",
    "\n",
    "    # giving a title to my graph\n",
    "    plt.title(name)\n",
    "    plt.plot(li)\n",
    "    plt.show()"
   ]
  },
  {
   "cell_type": "markdown",
   "metadata": {},
   "source": [
    "E-M step"
   ]
  },
  {
   "cell_type": "code",
   "execution_count": 36,
   "metadata": {},
   "outputs": [],
   "source": [
    "############### Baum-Welch reestimation method ###############\n",
    "def EM(A,B,pi,observ,li):\n",
    "    \n",
    "    count=0\n",
    "    \n",
    "    while True:\n",
    "        \n",
    "\n",
    "\n",
    "        # For training we have to take all the observations of music and for speech also\n",
    "        # so computing zetta and gamma for all the observaiton useful for\n",
    "        # updating A, B and pi\n",
    "        \n",
    "        zetta=[]\n",
    "        for i in range(len(observ)):\n",
    "            alpha,likeli,c=forward(A,B,pi,observ[i])\n",
    "            Beta,like_back=backward(A,B,pi,observ[i],c)\n",
    "            z=compute_zetta(A,B,observ[i],alpha,Beta)\n",
    "            zetta.append(z)\n",
    "\n",
    "        gamma=[]\n",
    "        for i in range(len(observ)):\n",
    "            alpha,likeli,c=forward(A,B,pi,observ[i])\n",
    "            Beta,like_back=backward(A,B,pi,observ[i],c)\n",
    "            g=compute_gamma(alpha,Beta)\n",
    "            gamma.append(g)\n",
    "\n",
    "        delta=[]\n",
    "        for i in range(len(observ)):\n",
    "            d,q=viterbi(A,B,pi,observ[i])\n",
    "            delta.append(d)\n",
    "\n",
    "        A=update_A(zetta,gamma)\n",
    "        symbol=[]\n",
    "        for i in range(len(B[0])):\n",
    "            symbol.append(i)\n",
    "        B=compute_B(delta,gamma,symbol,observ)       #for update B we need symbols\n",
    "\n",
    "        pi=compute_pi(gamma)\n",
    "\n",
    "\n",
    "        likeli=find_likelihood(A,B,pi,observ)\n",
    "        print(likeli)\n",
    "        if(int(li[-1])==int(likeli)):               #used to check when to convergence here \n",
    "            li.append(likeli)\n",
    "            break\n",
    "        else:\n",
    "            li.append(likeli)\n",
    "        count=count+1\n",
    "        \n",
    "    return A,B,pi"
   ]
  },
  {
   "cell_type": "markdown",
   "metadata": {},
   "source": [
    "Perform the Baum-Welch reestimation\n",
    "method to train HMMs with all the HMM training examples for speech and for music\n",
    "(two different HMMs). \n",
    "Also printing the likelihood at each iteration from which we can conclude that the likelihood are increasing."
   ]
  },
  {
   "cell_type": "code",
   "execution_count": 37,
   "metadata": {},
   "outputs": [
    {
     "name": "stdout",
     "output_type": "stream",
     "text": [
      "The log-likelihood for music files at iterations are \n",
      "-5353.435363052119\n",
      "-5331.601504068605\n",
      "-5323.341941394037\n",
      "-5315.712276769332\n",
      "-5305.201034092168\n",
      "-5288.757486811849\n",
      "-5262.613017776434\n",
      "-5224.673594874259\n",
      "-5181.038048489947\n",
      "-5145.162654738851\n",
      "-5124.004832278475\n",
      "-5113.898496879211\n",
      "-5109.135467721714\n",
      "-5106.571847244801\n",
      "-5104.9706866009365\n",
      "-5103.865005691814\n",
      "-5103.056279368561\n"
     ]
    },
    {
     "data": {
      "image/png": "[encoded data removed]",
      "text/plain": [
       "<Figure size 432x288 with 1 Axes>"
      ]
     },
     "metadata": {
      "needs_background": "light"
     },
     "output_type": "display_data"
    },
    {
     "name": "stdout",
     "output_type": "stream",
     "text": [
      "The log-likelihood for speech files at iterations are \n",
      "-5668.012850110356\n",
      "-5618.03736987881\n",
      "-5555.6850357154535\n",
      "-5463.343265596986\n",
      "-5326.114677045579\n",
      "-5196.072925812736\n",
      "-5144.522882873095\n",
      "-5125.44171137084\n",
      "-5111.598141022164\n",
      "-5099.7683581938445\n",
      "-5090.977362712218\n",
      "-5085.472496179279\n",
      "-5082.328497325221\n",
      "-5080.5241350256165\n",
      "-5079.420351650822\n",
      "-5078.686679114153\n",
      "-5078.15743978659\n"
     ]
    },
    {
     "data": {
      "image/png": "[encoded data removed]",
      "text/plain": [
       "<Figure size 432x288 with 1 Axes>"
      ]
     },
     "metadata": {
      "needs_background": "light"
     },
     "output_type": "display_data"
    }
   ],
   "source": [
    "print(\"The log-likelihood for music files at iterations are \")\n",
    "m_A,m_B,m_pi=EM(m_A,m_B,m_pi,observ_music,listmusiclikeli)\n",
    "\n",
    "plotting(listmusiclikeli,\"music\")\n",
    "\n",
    "\n",
    "print(\"The log-likelihood for speech files at iterations are \")\n",
    "\n",
    "s_A,s_B,s_pi=EM(s_A,s_B,s_pi,observ_speech,listspeechlikeli)\n",
    "plt.plot(listspeechlikeli)\n",
    "plotting(listspeechlikeli,\"speech\")\n",
    "plt.show()"
   ]
  },
  {
   "cell_type": "code",
   "execution_count": 38,
   "metadata": {},
   "outputs": [],
   "source": [
    "# Take a single observation file and making the array\n",
    "def specto_test(mag_fft,final_data):\n",
    "    fft_data=np.zeros([(No_of_shift-3),32]) \n",
    "    fft=np.log(np.absolute(np.fft.fft(final_data,mag_fft)))\n",
    "    fft_data=fft[:,0:32]\n",
    "    \n",
    "    return fft_data"
   ]
  },
  {
   "cell_type": "markdown",
   "metadata": {},
   "source": [
    "Code for Test-Data"
   ]
  },
  {
   "cell_type": "code",
   "execution_count": 39,
   "metadata": {},
   "outputs": [],
   "source": [
    "###############################   Testing #################################\n",
    "def Testing(mu_A,mu_B,mu_pi,sp_A,sp_B,sp_pi):\n",
    "    audio = 'speechMusicData/speech_music_classification/test'\n",
    "    test_data=read_data(audio)\n",
    "    count=0\n",
    "    for i in range(len(test_data)):\n",
    "            # Taking the spectrogram for the given data set.\n",
    "            fft_test=specto_test(mag_fft,test_data[i])            \n",
    "            ob=data_mean.predict(fft_test)\n",
    "            malpha,mlikeli,mc=forward(mu_A,mu_B,mu_pi,ob)  \n",
    "            salpha,slikeli,sc=forward(sp_A,sp_B,sp_pi,ob)\n",
    "\n",
    "            if(mlikeli>slikeli):\n",
    "                print(\"music\")\n",
    "                if(i<=23):\n",
    "                    count=count+1\n",
    "\n",
    "            else:\n",
    "                print(\"speech\")\n",
    "                if(i>=24):\n",
    "                    \n",
    "                    count=count+1\n",
    "    return count"
   ]
  },
  {
   "cell_type": "code",
   "execution_count": 40,
   "metadata": {},
   "outputs": [
    {
     "name": "stdout",
     "output_type": "stream",
     "text": [
      "music\n",
      "music\n",
      "music\n",
      "music\n",
      "music\n",
      "music\n",
      "music\n",
      "music\n",
      "music\n",
      "music\n",
      "music\n",
      "music\n",
      "music\n",
      "music\n",
      "music\n",
      "music\n",
      "music\n",
      "speech\n",
      "music\n",
      "music\n",
      "music\n",
      "music\n",
      "speech\n",
      "music\n",
      "speech\n",
      "speech\n",
      "speech\n",
      "speech\n",
      "music\n",
      "speech\n",
      "speech\n",
      "speech\n",
      "music\n",
      "speech\n",
      "speech\n",
      "music\n",
      "music\n",
      "speech\n",
      "speech\n",
      "speech\n",
      "speech\n",
      "speech\n",
      "music\n",
      "speech\n",
      "speech\n",
      "speech\n",
      "speech\n",
      "speech\n"
     ]
    }
   ],
   "source": [
    "correct=Testing(m_A,m_B,m_pi,s_A,s_B,s_pi)"
   ]
  },
  {
   "cell_type": "code",
   "execution_count": 41,
   "metadata": {},
   "outputs": [
    {
     "name": "stdout",
     "output_type": "stream",
     "text": [
      "The Accuracy is 85.41666666666666 %\n"
     ]
    }
   ],
   "source": [
    "print(\"The Accuracy is\",(correct/48)*100,\"%\")"
   ]
  },
  {
   "cell_type": "markdown",
   "metadata": {},
   "source": [
    "Report of the Performance-> The Accuracy in most of the cases which i get is from 79% to 85% since i have KMeans with random intialization, so accuracy might vary and since they are very less test points."
   ]
  },
  {
   "cell_type": "code",
   "execution_count": null,
   "metadata": {},
   "outputs": [],
   "source": []
  }
 ],
 "metadata": {
  "kernelspec": {
   "display_name": "Python 3",
   "language": "python",
   "name": "python3"
  },
  "language_info": {
   "codemirror_mode": {
    "name": "ipython",
    "version": 3
   },
   "file_extension": ".py",
   "mimetype": "text/x-python",
   "name": "python",
   "nbconvert_exporter": "python",
   "pygments_lexer": "ipython3",
   "version": "3.8.5"
  }
 },
 "nbformat": 4,
 "nbformat_minor": 4
}
